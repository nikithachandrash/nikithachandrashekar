{
  "nbformat": 4,
  "nbformat_minor": 0,
  "metadata": {
    "colab": {
      "name": "nikithaclassification .ipynb",
      "provenance": [],
      "collapsed_sections": []
    },
    "kernelspec": {
      "name": "python3",
      "display_name": "Python 3"
    }
  },
  "cells": [
    {
      "cell_type": "code",
      "metadata": {
        "id": "AkkulIuhcUlb",
        "colab_type": "code",
        "colab": {}
      },
      "source": [
        "import pandas as pd\n",
        "import numpy as np"
      ],
      "execution_count": null,
      "outputs": []
    },
    {
      "cell_type": "code",
      "metadata": {
        "id": "dda5oiPOcwdA",
        "colab_type": "code",
        "colab": {}
      },
      "source": [
        "dataset = pd.read_csv('/content/datasets_596958_1073629_Placement_Data_Full_Class.csv')"
      ],
      "execution_count": null,
      "outputs": []
    },
    {
      "cell_type": "code",
      "metadata": {
        "id": "rBeBJXfSczj7",
        "colab_type": "code",
        "colab": {
          "base_uri": "https://localhost:8080/",
          "height": 340
        },
        "outputId": "f620f55c-576d-4fea-abde-97ef24f2a6be"
      },
      "source": [
        "dataset.info()\n"
      ],
      "execution_count": null,
      "outputs": [
        {
          "output_type": "stream",
          "text": [
            "<class 'pandas.core.frame.DataFrame'>\n",
            "RangeIndex: 1599 entries, 0 to 1598\n",
            "Data columns (total 12 columns):\n",
            " #   Column                Non-Null Count  Dtype  \n",
            "---  ------                --------------  -----  \n",
            " 0   fixed acidity         1599 non-null   float64\n",
            " 1   volatile acidity      1599 non-null   float64\n",
            " 2   citric acid           1599 non-null   float64\n",
            " 3   residual sugar        1599 non-null   float64\n",
            " 4   chlorides             1599 non-null   float64\n",
            " 5   free sulfur dioxide   1599 non-null   float64\n",
            " 6   total sulfur dioxide  1599 non-null   float64\n",
            " 7   density               1599 non-null   float64\n",
            " 8   pH                    1599 non-null   float64\n",
            " 9   sulphates             1599 non-null   float64\n",
            " 10  alcohol               1599 non-null   float64\n",
            " 11  quality               1599 non-null   int64  \n",
            "dtypes: float64(11), int64(1)\n",
            "memory usage: 150.0 KB\n"
          ],
          "name": "stdout"
        }
      ]
    },
    {
      "cell_type": "code",
      "metadata": {
        "id": "dvS5wqM0c2C2",
        "colab_type": "code",
        "colab": {
          "base_uri": "https://localhost:8080/",
          "height": 34
        },
        "outputId": "bad16d98-abdb-4cf4-be73-6656e058d626"
      },
      "source": [
        "dataset['quality'].unique()"
      ],
      "execution_count": null,
      "outputs": [
        {
          "output_type": "execute_result",
          "data": {
            "text/plain": [
              "array([5, 6, 7, 4, 8, 3])"
            ]
          },
          "metadata": {
            "tags": []
          },
          "execution_count": 4
        }
      ]
    },
    {
      "cell_type": "code",
      "metadata": {
        "id": "VK8LrjHPdBel",
        "colab_type": "code",
        "colab": {}
      },
      "source": [
        "x = dataset.iloc[: , 1:-1].values\n",
        "y = dataset.iloc[:, -1].values"
      ],
      "execution_count": null,
      "outputs": []
    },
    {
      "cell_type": "code",
      "metadata": {
        "id": "IBEQLhiUdE24",
        "colab_type": "code",
        "colab": {
          "base_uri": "https://localhost:8080/",
          "height": 136
        },
        "outputId": "7f5b3d44-fa67-47c3-ad97-6453bb569d4d"
      },
      "source": [
        "x"
      ],
      "execution_count": null,
      "outputs": [
        {
          "output_type": "execute_result",
          "data": {
            "text/plain": [
              "array([[ 0.7  ,  0.   ,  1.9  , ...,  3.51 ,  0.56 ,  9.4  ],\n",
              "       [ 0.88 ,  0.   ,  2.6  , ...,  3.2  ,  0.68 ,  9.8  ],\n",
              "       [ 0.76 ,  0.04 ,  2.3  , ...,  3.26 ,  0.65 ,  9.8  ],\n",
              "       ...,\n",
              "       [ 0.51 ,  0.13 ,  2.3  , ...,  3.42 ,  0.75 , 11.   ],\n",
              "       [ 0.645,  0.12 ,  2.   , ...,  3.57 ,  0.71 , 10.2  ],\n",
              "       [ 0.31 ,  0.47 ,  3.6  , ...,  3.39 ,  0.66 , 11.   ]])"
            ]
          },
          "metadata": {
            "tags": []
          },
          "execution_count": 6
        }
      ]
    },
    {
      "cell_type": "code",
      "metadata": {
        "id": "tSppdo4mdGhC",
        "colab_type": "code",
        "colab": {
          "base_uri": "https://localhost:8080/",
          "height": 34
        },
        "outputId": "9dcbdcac-ba0f-491a-f9c9-1baedd49ae81"
      },
      "source": [
        "y"
      ],
      "execution_count": null,
      "outputs": [
        {
          "output_type": "execute_result",
          "data": {
            "text/plain": [
              "array([5, 5, 5, ..., 6, 5, 6])"
            ]
          },
          "metadata": {
            "tags": []
          },
          "execution_count": 7
        }
      ]
    },
    {
      "cell_type": "code",
      "metadata": {
        "id": "P89uFGIZdHYm",
        "colab_type": "code",
        "colab": {}
      },
      "source": [
        "from sklearn.model_selection import train_test_split"
      ],
      "execution_count": null,
      "outputs": []
    },
    {
      "cell_type": "code",
      "metadata": {
        "id": "KpIq5Ex0dK43",
        "colab_type": "code",
        "colab": {}
      },
      "source": [
        "x_train, x_test, y_train, y_test = train_test_split(x,y, test_size=0.20)"
      ],
      "execution_count": null,
      "outputs": []
    },
    {
      "cell_type": "code",
      "metadata": {
        "id": "4q_H0OwXdNsE",
        "colab_type": "code",
        "colab": {}
      },
      "source": [
        "from sklearn.preprocessing import StandardScaler"
      ],
      "execution_count": null,
      "outputs": []
    },
    {
      "cell_type": "code",
      "metadata": {
        "id": "llj066oRdQbu",
        "colab_type": "code",
        "colab": {}
      },
      "source": [
        "sc = StandardScaler()"
      ],
      "execution_count": null,
      "outputs": []
    },
    {
      "cell_type": "code",
      "metadata": {
        "id": "8Nr19C4OdSvW",
        "colab_type": "code",
        "colab": {}
      },
      "source": [
        "x_train = sc.fit_transform(x_train)\n",
        "x_test = sc.transform(x_test)"
      ],
      "execution_count": null,
      "outputs": []
    },
    {
      "cell_type": "code",
      "metadata": {
        "id": "eHsUid_kdU_c",
        "colab_type": "code",
        "colab": {}
      },
      "source": [
        "from sklearn.linear_model import LogisticRegression\n",
        "from sklearn.neighbors import KNeighborsClassifier\n",
        "from sklearn.tree import DecisionTreeClassifier\n",
        "from sklearn.ensemble import RandomForestClassifier\n",
        "from sklearn.svm import SVC"
      ],
      "execution_count": null,
      "outputs": []
    },
    {
      "cell_type": "code",
      "metadata": {
        "id": "5CV5seU7dXr2",
        "colab_type": "code",
        "colab": {}
      },
      "source": [
        "l_cla = LogisticRegression()\n",
        "k_cla = KNeighborsClassifier()\n",
        "d_cla = DecisionTreeClassifier()\n",
        "r_cla = RandomForestClassifier()\n",
        "s_cla = SVC(kernel='linear')\n",
        "ks_cla = SVC(kernel= 'rbf')"
      ],
      "execution_count": null,
      "outputs": []
    },
    {
      "cell_type": "code",
      "metadata": {
        "id": "FK2LY_x5dbbI",
        "colab_type": "code",
        "colab": {
          "base_uri": "https://localhost:8080/",
          "height": 85
        },
        "outputId": "e3c7a8f7-476f-4124-cd40-dfba0c30642d"
      },
      "source": [
        "l_cla.fit(x_train, y_train)\n",
        "k_cla.fit(x_train, y_train)\n",
        "d_cla.fit(x_train, y_train)\n",
        "r_cla.fit(x_train, y_train)\n",
        "s_cla.fit(x_train, y_train)\n",
        "ks_cla.fit(x_train, y_train)"
      ],
      "execution_count": null,
      "outputs": [
        {
          "output_type": "execute_result",
          "data": {
            "text/plain": [
              "SVC(C=1.0, break_ties=False, cache_size=200, class_weight=None, coef0=0.0,\n",
              "    decision_function_shape='ovr', degree=3, gamma='scale', kernel='rbf',\n",
              "    max_iter=-1, probability=False, random_state=None, shrinking=True,\n",
              "    tol=0.001, verbose=False)"
            ]
          },
          "metadata": {
            "tags": []
          },
          "execution_count": 15
        }
      ]
    },
    {
      "cell_type": "code",
      "metadata": {
        "id": "NrpMHCBZdeck",
        "colab_type": "code",
        "colab": {}
      },
      "source": [
        "l_pred = l_cla.predict(x_test)\n",
        "k_pred = k_cla.predict(x_test)\n",
        "d_pred = d_cla.predict(x_test)\n",
        "r_pred = r_cla.predict(x_test)\n",
        "s_pred = s_cla.predict(x_test)\n",
        "ks_pred = ks_cla.predict(x_test)"
      ],
      "execution_count": null,
      "outputs": []
    },
    {
      "cell_type": "code",
      "metadata": {
        "id": "1QRoOBtSdg_x",
        "colab_type": "code",
        "colab": {}
      },
      "source": [
        "from sklearn.metrics import confusion_matrix"
      ],
      "execution_count": null,
      "outputs": []
    },
    {
      "cell_type": "code",
      "metadata": {
        "id": "_-tL6pgodj9r",
        "colab_type": "code",
        "colab": {}
      },
      "source": [
        "l_c = confusion_matrix(y_test, l_pred)\n",
        "k_c = confusion_matrix(y_test, k_pred)\n",
        "d_c = confusion_matrix(y_test, d_pred)\n",
        "r_c = confusion_matrix(y_test, r_pred)\n",
        "s_c = confusion_matrix(y_test, s_pred)\n",
        "ks_c = confusion_matrix(y_test, ks_pred)"
      ],
      "execution_count": null,
      "outputs": []
    },
    {
      "cell_type": "code",
      "metadata": {
        "id": "_KQACWfRdmz_",
        "colab_type": "code",
        "colab": {
          "base_uri": "https://localhost:8080/",
          "height": 119
        },
        "outputId": "3fdd5550-150f-4943-81c3-2f5185550269"
      },
      "source": [
        "l_c"
      ],
      "execution_count": null,
      "outputs": [
        {
          "output_type": "execute_result",
          "data": {
            "text/plain": [
              "array([[  0,   0,   2,   0,   0,   0],\n",
              "       [  0,   0,   9,   1,   0,   0],\n",
              "       [  0,   0, 103,  27,   2,   0],\n",
              "       [  0,   0,  51,  88,   6,   0],\n",
              "       [  0,   0,   0,  17,  11,   0],\n",
              "       [  0,   0,   0,   3,   0,   0]])"
            ]
          },
          "metadata": {
            "tags": []
          },
          "execution_count": 19
        }
      ]
    },
    {
      "cell_type": "code",
      "metadata": {
        "id": "Tn86pRygdo8D",
        "colab_type": "code",
        "colab": {
          "base_uri": "https://localhost:8080/",
          "height": 119
        },
        "outputId": "afaa8e28-2be0-484a-b78a-c730e171eacd"
      },
      "source": [
        "k_c"
      ],
      "execution_count": null,
      "outputs": [
        {
          "output_type": "execute_result",
          "data": {
            "text/plain": [
              "array([[ 0,  1,  1,  0,  0,  0],\n",
              "       [ 0,  0,  6,  4,  0,  0],\n",
              "       [ 0,  1, 99, 29,  3,  0],\n",
              "       [ 0,  1, 53, 79, 12,  0],\n",
              "       [ 0,  0,  2, 15, 11,  0],\n",
              "       [ 0,  0,  0,  2,  1,  0]])"
            ]
          },
          "metadata": {
            "tags": []
          },
          "execution_count": 20
        }
      ]
    },
    {
      "cell_type": "code",
      "metadata": {
        "id": "S9GGm-CFdrr0",
        "colab_type": "code",
        "colab": {
          "base_uri": "https://localhost:8080/",
          "height": 119
        },
        "outputId": "6a950d11-b2e2-4aac-d7f0-48a238a67ddd"
      },
      "source": [
        "d_c"
      ],
      "execution_count": null,
      "outputs": [
        {
          "output_type": "execute_result",
          "data": {
            "text/plain": [
              "array([[ 0,  0,  2,  0,  0,  0],\n",
              "       [ 0,  0,  4,  5,  1,  0],\n",
              "       [ 2,  6, 95, 23,  6,  0],\n",
              "       [ 2,  1, 35, 87, 18,  2],\n",
              "       [ 0,  0,  3, 10, 14,  1],\n",
              "       [ 0,  0,  0,  1,  1,  1]])"
            ]
          },
          "metadata": {
            "tags": []
          },
          "execution_count": 21
        }
      ]
    },
    {
      "cell_type": "code",
      "metadata": {
        "id": "BjTzjVhPdujP",
        "colab_type": "code",
        "colab": {
          "base_uri": "https://localhost:8080/",
          "height": 119
        },
        "outputId": "28cf1a95-f237-4ba5-e554-64d97ff09800"
      },
      "source": [
        "r_c"
      ],
      "execution_count": null,
      "outputs": [
        {
          "output_type": "execute_result",
          "data": {
            "text/plain": [
              "array([[  0,   0,   1,   1,   0,   0],\n",
              "       [  0,   0,   7,   3,   0,   0],\n",
              "       [  0,   0, 108,  22,   2,   0],\n",
              "       [  0,   1,  31, 100,  13,   0],\n",
              "       [  0,   0,   1,  13,  13,   1],\n",
              "       [  0,   0,   0,   1,   1,   1]])"
            ]
          },
          "metadata": {
            "tags": []
          },
          "execution_count": 22
        }
      ]
    },
    {
      "cell_type": "code",
      "metadata": {
        "id": "20Zfbng3dvq0",
        "colab_type": "code",
        "colab": {
          "base_uri": "https://localhost:8080/",
          "height": 119
        },
        "outputId": "cb65f931-bc50-4170-d84a-f26cbaefd69a"
      },
      "source": [
        "s_c"
      ],
      "execution_count": null,
      "outputs": [
        {
          "output_type": "execute_result",
          "data": {
            "text/plain": [
              "array([[  0,   0,   2,   0,   0,   0],\n",
              "       [  0,   0,   9,   1,   0,   0],\n",
              "       [  0,   0, 101,  31,   0,   0],\n",
              "       [  0,   0,  53,  92,   0,   0],\n",
              "       [  0,   0,   0,  28,   0,   0],\n",
              "       [  0,   0,   0,   3,   0,   0]])"
            ]
          },
          "metadata": {
            "tags": []
          },
          "execution_count": 23
        }
      ]
    },
    {
      "cell_type": "code",
      "metadata": {
        "id": "qo3IKx8fdyvC",
        "colab_type": "code",
        "colab": {
          "base_uri": "https://localhost:8080/",
          "height": 119
        },
        "outputId": "4eb1827f-11f4-43fe-91b6-02e8900dac6c"
      },
      "source": [
        "ks_c"
      ],
      "execution_count": null,
      "outputs": [
        {
          "output_type": "execute_result",
          "data": {
            "text/plain": [
              "array([[  0,   0,   2,   0,   0,   0],\n",
              "       [  0,   0,   9,   1,   0,   0],\n",
              "       [  0,   0, 100,  32,   0,   0],\n",
              "       [  0,   0,  45,  96,   4,   0],\n",
              "       [  0,   0,   0,  18,  10,   0],\n",
              "       [  0,   0,   0,   3,   0,   0]])"
            ]
          },
          "metadata": {
            "tags": []
          },
          "execution_count": 24
        }
      ]
    },
    {
      "cell_type": "code",
      "metadata": {
        "id": "CVahKHS-d12v",
        "colab_type": "code",
        "colab": {}
      },
      "source": [
        "from sklearn.metrics import accuracy_score"
      ],
      "execution_count": null,
      "outputs": []
    },
    {
      "cell_type": "code",
      "metadata": {
        "id": "JoPSrU08d4eY",
        "colab_type": "code",
        "colab": {}
      },
      "source": [
        "l_a = accuracy_score(y_test, l_pred)\n",
        "k_a = accuracy_score(y_test, k_pred)\n",
        "d_a = accuracy_score(y_test, d_pred)\n",
        "r_a = accuracy_score(y_test, r_pred)\n",
        "s_a = accuracy_score(y_test, s_pred)\n",
        "ks_a = accuracy_score(y_test, ks_pred)"
      ],
      "execution_count": null,
      "outputs": []
    },
    {
      "cell_type": "code",
      "metadata": {
        "id": "heDEElP7d7GP",
        "colab_type": "code",
        "colab": {
          "base_uri": "https://localhost:8080/",
          "height": 119
        },
        "outputId": "19d3f6a9-143f-4b82-8b94-1c9de61b16e9"
      },
      "source": [
        "print('Logistic Regression: ' + str(l_a) + '\\nKNN: ' + str(k_a) + '\\nDecision Tree: ' + str(d_a) + '\\nRandom Forest: ' + str(r_a) + '\\nLinear SVC: ' + str(s_a) + '\\nKernel SVC: ' + str(l_a))"
      ],
      "execution_count": null,
      "outputs": [
        {
          "output_type": "stream",
          "text": [
            "Logistic Regression: 0.63125\n",
            "KNN: 0.590625\n",
            "Decision Tree: 0.615625\n",
            "Random Forest: 0.69375\n",
            "Linear SVC: 0.603125\n",
            "Kernel SVC: 0.63125\n"
          ],
          "name": "stdout"
        }
      ]
    }
  ]
}